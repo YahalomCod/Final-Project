{
 "cells": [
  {
   "cell_type": "markdown",
   "metadata": {},
   "source": [
    "# Probability & Bayes Law :"
   ]
  },
  {
   "cell_type": "markdown",
   "metadata": {},
   "source": [
    "Q1.\n",
    "\n",
    "א. בערך 1/125 מהלידות זה תאומים לא זהים ו- 1/300 מהלידות זה תאומים זהים. לאלביס היה\n",
    "אח תאום שמת בלידה. מה ההסתברות שאלביס היה תאום זהה? )ניתן להניח שההסתברות\n",
    "להולדת בן ובת שווה ל - 1/2"
   ]
  },
  {
   "cell_type": "markdown",
   "metadata": {},
   "source": [
    "1.a \n",
    "\n",
    "To answer this question I will use bayes' theorem.\n",
    "\n",
    "P(A) = probability for identical tweens = 1/300\n",
    "\n",
    "P(B) = probability for tweens(identical/ not identical) = 1/300 + 1/125 = 17/1500\n",
    "\n",
    "P(B|A) = the probability for tweens given that they are indentical tweens = 1\n",
    "\n",
    "The probability for identical tweens given there are tweens:\n",
    "\n",
    "P(A|B) = (P(B|A)*P(A))/P(B) = (1 * 1/300) / (17/1500) = 5/17\n",
    "\n",
    "The answer above is for a girl/boy since we are asked about a male tween then the final answer will be:\n",
    "\n",
    "(5/17)*(1/2) = 5/34"
   ]
  },
  {
   "cell_type": "code",
   "execution_count": null,
   "metadata": {},
   "outputs": [],
   "source": []
  },
  {
   "attachments": {},
   "cell_type": "markdown",
   "metadata": {},
   "source": [
    "ב. יש שתי קערות של עוגיות. בקערה 1 יש 10 עוגיות שקדים ו- 30 עוגיות שוקולד. בקערה 2 יש\n",
    "20 עוגיות שקדים ו- 20 עוגיות שוקולד. אריק בחר קערה באקראי ובחר ממנה עוגיה באקראי.\n",
    "העוגיה שנבחרה היא שוקולד. מה ההסתברות שאריק בחר את קערה 1"
   ]
  },
  {
   "cell_type": "markdown",
   "metadata": {},
   "source": [
    "1.b \n",
    "\n",
    "P(A) = probability for choosing bowl 1 = 0.5\n",
    "\n",
    "P(B) = probability for choosing a chocolate coockie from the 2 bowls = 0.5 * 30/40(bowl 1) + 0.5 * 20/40(bowl 2) = 0.625\n",
    "\n",
    "P(B|A) = the probability for choosing chocolate cookie given that we are choosing from bowl 1 = 30/40 = 0.75\n",
    "\n",
    "The probability for choosing bowl 1 given that the chosen cookie is chocolate : \n",
    "\n",
    "P(A|B) = (P(B|A)*P(A))/P(B) = (0.75*0.5)/0.625 = 0.6 = 60%"
   ]
  },
  {
   "cell_type": "code",
   "execution_count": null,
   "metadata": {},
   "outputs": [],
   "source": []
  },
  {
   "attachments": {},
   "cell_type": "markdown",
   "metadata": {},
   "source": [
    "Q2\n",
    "\n",
    "בשנת 1995 חברת M&M הוסיפה את הצבע כחול. לפני השנה הזו, התפלגות הצבעים\n",
    "בשקית M&M נראית כך:\n",
    "\n",
    "30% Brown, 20% Yellow, 20% Red, 10% Green, 10% Orange, 10% Tan\n",
    "\n",
    "החל משנת 1995 , ההתפלגות נראית כך:\n",
    "\n",
    "24% Blue , 20% Green, 16% Orange, 14% Yellow, 13% Red, 13% Brown.\n",
    "\n",
    "לחבר שלכם יש 2 שקיות M&M , אחת משנת 1994 ואחת משנת 1996 והוא לא מוכן לגלות לכם\n",
    "איזו שקית שייכת לאיזו שנה. אבל הוא נותן לכם סוכריה אחת מכל שקית. סוכריה אחת היא צהובה ואחת\n",
    "היא ירוקה. מה הסיכוי שהסוכריה הצהובה הגיעה מהשקית של 1994"
   ]
  },
  {
   "cell_type": "markdown",
   "metadata": {},
   "source": [
    "In this question there are two options for choosing green and yellow M&M :\n",
    "\n",
    "Option 1 = the green M&M is from 1994 and the yellow M&M is from 1996 This option is irrelevante because we are need to know about the odds of the yellow M&M is from 1996\n",
    "\n",
    "Option 2 = the yellow M&M is from 1994 (20/100) and the green M&M is from 1996(20/100) = (20/100)*(20/100) = 0.04 = 4%\n",
    "\n",
    "The odds for between option 1 and option 2 is 50/50 so the final answer is: 0.04*0.5 = 0.02 = 2%"
   ]
  },
  {
   "cell_type": "code",
   "execution_count": null,
   "metadata": {},
   "outputs": [],
   "source": []
  },
  {
   "attachments": {},
   "cell_type": "markdown",
   "metadata": {},
   "source": [
    "Q3 \n",
    "\n",
    "הלכת לדוקטור בעקבות ציפורן חודרנית. הדוקטור בחר בך באקראי לבצע בדיקת דם הבודקת\n",
    "שפעת חזירים. ידוע סטטיסטית ששפעת זו פוגעת ב - 1 מתוך 10,000 אנשים באוכלוסייה. הבדיקה\n",
    "מדויקת ב - 99 אחוז במובן שההסתברות ל\n",
    "\n",
    "false positive היא 1% .\n",
    "\n",
    "הווה אומר שהבדיקה סיווגה\n",
    "בטעות אדם בריא כאדם חולה היא 1 אחוז. ההסתברות ל -\n",
    "\n",
    "false negative\n",
    "\n",
    "היא 0 – אין סיכוי\n",
    "שהבדיקה תגיד על אדם החולה בשפעת חזירים שהוא בריא. בבדיקה יצאת חיובי )יש לך שפעת(.\n",
    "\n",
    "א. מה ההסתברות שיש לך שפעת חזירים?\n",
    "\n",
    "ב. נניח שחזרת מתאילנד לאחרונה ואתה יודע ש- 1 מתוך 200 אנשים שחזרו לאחרונה מתאילנד,\n",
    "חזרו עם שפעת חזירים. בהינתן אותה סיטואציה כמו בשאלה א, מה ההסתברות )המתוקנת(\n",
    "שיש לך שפעת חזירים?"
   ]
  },
  {
   "cell_type": "markdown",
   "metadata": {},
   "source": [
    "3.a\n",
    "\n",
    "P(A) = probability for being sick in the Swine flue = 1/10000 = 10^-4\n",
    "\n",
    "P(B) = probability for getting positive result in the blood test = False Positive + True Positive = (1-10^-4) * 0.01 + 10^-4 = 0.01099\n",
    "\n",
    "P(B|A) = the probability for getting a positive result in the blood test given that a person is sick = 1 = there is no false negative\n",
    "\n",
    "P(A|B) = (P(B|A)*P(A))/P(B) = 1*10^-4 / 0.01099 = 0.0099"
   ]
  },
  {
   "cell_type": "markdown",
   "metadata": {},
   "source": [
    "3.b \n",
    "\n",
    "P(A) = probability for being sick in the Swine flue after recently beign in Thailand= 1/200\n",
    "\n",
    "P(B) = probability for getting positive result in the blood test after beign in Thailand = False Positive + True Positive = (199/200) * 0.01 + 1/200 = 0.01495\n",
    "\n",
    "P(B|A) = the probability for getting a positive result in the blood test given that a person is sick = 1 = there is no false negative\n",
    "\n",
    "P(A|B) = (P(B|A)*P(A))/P(B) = 1*(1/200) / 0.01495 = 0.33444816"
   ]
  },
  {
   "cell_type": "code",
   "execution_count": null,
   "metadata": {},
   "outputs": [],
   "source": []
  },
  {
   "cell_type": "markdown",
   "metadata": {},
   "source": [
    "**Random Variables**"
   ]
  },
  {
   "attachments": {},
   "cell_type": "markdown",
   "metadata": {},
   "source": [
    "Q1 \n",
    "\n",
    "Roi is playing a dice game with Yael. Roi will roll 2 six-sided dice, and if the sum of the dice is divisible by 3, he will win 6$. If the sum is not divisible by 3, he will lose 3 {$}. What is Roi’s expected value of playing this game?"
   ]
  },
  {
   "attachments": {
    "image.png": {
     "image/png": "[encoded data removed]"
    }
   },
   "cell_type": "markdown",
   "metadata": {},
   "source": [
    "![image.png](attachment:image.png)"
   ]
  },
  {
   "cell_type": "markdown",
   "metadata": {},
   "source": [
    "To answer this question we will need to know how much option Roi has to win and to lose since we are rolling a two six-sided dices the total possibilites are 6x6 = 36\n",
    "\n",
    "List of possible win outcomes:\n",
    "\n",
    "(1,2) , (2,1) = 3\n",
    "\n",
    "(1,5) , (5,1) , (2,4) , (4,2) , (3,3) = 6\n",
    "\n",
    "(4,5) , (5,4) , (3,6) , (6,3) = 9\n",
    "\n",
    "(6,6) = 12\n",
    "\n",
    "Total possibilities for a win = 12\n",
    "\n",
    "Total possibilities for a lose = 36-12 = 24\n",
    "\n",
    "E(gain from 3 dollars bet) = -3 * (24/36) + 6*(12/36) = 0$\n",
    "\n",
    "Roi has a 0$ expected value"
   ]
  },
  {
   "cell_type": "code",
   "execution_count": null,
   "metadata": {},
   "outputs": [],
   "source": []
  },
  {
   "attachments": {},
   "cell_type": "markdown",
   "metadata": {},
   "source": [
    "Q2 \n",
    "\n",
    "Sharon has challenged Alex to a round of Marker Mixup. Marker Mixup is a game where there is a bag of 5 red markers numbered 1 through 5, and another bag with 5 green markers numbered 6 through 10. Alex will grab 1 marker from each bag, and if the 2 markers add up to more than 12, he will win 5$, 5. If the sum is exactly 12, he will break even, and If the sum is less than 12, he will lose 6{$}."
   ]
  },
  {
   "cell_type": "markdown",
   "metadata": {},
   "source": [
    "Like in the previous question we will need to know the number of possible wins & lose outcomes:\n",
    "\n",
    "Total possible outcomes are 5x5 = 25\n",
    "\n",
    "Win outcomes:\n",
    "\n",
    "When getting a marker with 1 from the bag there are 5 possible out comes for a win: (1,6) , (1,7) , (1,8) , (1,9) , (1,10)\n",
    "\n",
    "When getting a marker with 2 from the bag there are 4 possible out comes for a win: (2,6) , (2,7) , (2,8) , (2,9)\n",
    "\n",
    "When getting a marker with 3 from the bag there are 3 possible out comes for a win: (3,6) , (3,7) , (3,8) \n",
    "\n",
    "When getting a marker with 4 from the bag there are 2 possible out comes for a win: (4,6) , (4,7)\n",
    "\n",
    "When getting a marker with 5 from the bag there are 1 possible out comes for a win: (5,6)\n",
    "\n",
    "There are 4 possible tie outcomes: (2,10) , (3,9) , (4,8) , (5,7)\n",
    "\n",
    "E(gain value from 5 dollars bet) = 5 * (15/25) + 0*(4/25)  - 6*(6/25) = 1.56 $\n",
    "\n",
    "Alex has a +1.56$ expected value"
   ]
  },
  {
   "cell_type": "code",
   "execution_count": null,
   "metadata": {},
   "outputs": [],
   "source": []
  },
  {
   "attachments": {},
   "cell_type": "markdown",
   "metadata": {},
   "source": [
    "Q3 \n",
    "\n",
    "A division of a company has 200 employees, 40%, percent of which are male. Each month, the company randomly selects 8 of these employees to have lunch with the CEO. What are the mean and standard deviation of the number of males selected each month?"
   ]
  },
  {
   "cell_type": "markdown",
   "metadata": {},
   "source": [
    "200 employees 40% are male\n",
    "\n",
    "so by picking a group of 8 people the mean of male will be\n",
    "\n",
    "mean = 0.4*8 = 3.2\n",
    "\n",
    "P = probability of picking male = 0.4\n",
    "\n",
    "std = $\\sqrt{mean*(1-P)}$ =$\\sqrt{3.2*(1-0.4)}$ = 1.38564\n"
   ]
  },
  {
   "cell_type": "code",
   "execution_count": null,
   "metadata": {},
   "outputs": [],
   "source": []
  },
  {
   "attachments": {},
   "cell_type": "markdown",
   "metadata": {},
   "source": [
    "Q4 \n",
    "\n",
    "Different dealers may sell the same car for different prices. The sale prices for a particular car are normally distributed with a mean and standard deviation of 26,000$ and 2,000{$}, respectively. Suppose we select one of these cars at random. Let X = the sale price (in thousands of dollars) for the selected car. Find P(26<X<30)"
   ]
  },
  {
   "attachments": {
    "image.png": {
     "image/png": "[encoded data removed]"
    }
   },
   "cell_type": "markdown",
   "metadata": {},
   "source": [
    "![image.png](attachment:image.png)"
   ]
  },
  {
   "cell_type": "markdown",
   "metadata": {},
   "source": [
    "According to Gaussian distribution and the 68–95–99 rule:\n",
    "\n",
    "there are about 95% of the values lie within two standard deviations away from the mean.\n",
    "\n",
    "in our case the mean is = 26\n",
    "\n",
    "the std is = 2\n",
    "\n",
    "P(26<X<30) = X is 2 std away from the mean but only from one side (if it was from both sides then x was also 22<X<26) so according to the rule above there are 95% / 2 < 47.7%"
   ]
  },
  {
   "cell_type": "code",
   "execution_count": null,
   "metadata": {},
   "outputs": [],
   "source": []
  },
  {
   "attachments": {},
   "cell_type": "markdown",
   "metadata": {},
   "source": [
    "Q5 \n",
    "\n",
    "Given the following distribution, what is P(x>3)?"
   ]
  },
  {
   "cell_type": "markdown",
   "metadata": {},
   "source": [
    "P(X>=3) = the area of the triangle = (0.4*2)/2 = 0.4\n",
    "\n",
    "P(X>3) < 0.4"
   ]
  },
  {
   "cell_type": "code",
   "execution_count": null,
   "metadata": {},
   "outputs": [],
   "source": []
  },
  {
   "attachments": {},
   "cell_type": "markdown",
   "metadata": {},
   "source": [
    "Q6 \n",
    "\n",
    "A company has 500 employees, and 60% of them have children. Suppose that we randomly select 4 of these employees. What is the probability that exactly 3 of the 4 employees selected have children?"
   ]
  },
  {
   "cell_type": "markdown",
   "metadata": {},
   "source": [
    "300 employes with children\n",
    "\n",
    "200 employes without children\n",
    "\n",
    "There are 4 possible option for choosing exactly 3 of the 4 employees selected have children:\n",
    "\n",
    "no = no children , have = have children\n",
    "\n",
    "1. no , have , have , have = (200/500) * (300/500) * (299/500) * (298/500)\n",
    "\n",
    "2. have , no , have , have = (300/500) * (200/500) * (299/500) * (298/500)\n",
    "\n",
    "3. have , have , no , have = (300/500) * (299/500) * (200/500) * (298/500)\n",
    "\n",
    "4. have , have , have , no = (300/500) * (299/500) * (298/500) * (200/500)\n",
    "\n",
    "1+2+3+4 = 4 * (300/500) * (299/500) * (298/500) * (200/500) = 0.34215168"
   ]
  },
  {
   "cell_type": "code",
   "execution_count": null,
   "metadata": {},
   "outputs": [],
   "source": []
  },
  {
   "attachments": {},
   "cell_type": "markdown",
   "metadata": {},
   "source": [
    "Q7. Look at the next Graph. What is the expected value of X?"
   ]
  },
  {
   "cell_type": "markdown",
   "metadata": {},
   "source": [
    "Expected value of X = -10 * 0.1 -5 * 0.35 + 0 * 0.1 + 5 * 0.35 + 10 * 0.1 = 0 "
   ]
  },
  {
   "cell_type": "code",
   "execution_count": null,
   "metadata": {},
   "outputs": [],
   "source": []
  }
 ],
 "metadata": {
  "kernelspec": {
   "display_name": "Python 3",
   "language": "python",
   "name": "python3"
  },
  "language_info": {
   "codemirror_mode": {
    "name": "ipython",
    "version": 3
   },
   "file_extension": ".py",
   "mimetype": "text/x-python",
   "name": "python",
   "nbconvert_exporter": "python",
   "pygments_lexer": "ipython3",
   "version": "3.8.3"
  }
 },
 "nbformat": 4,
 "nbformat_minor": 4
}
