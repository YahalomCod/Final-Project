{
 "cells": [
  {
   "cell_type": "markdown",
   "metadata": {},
   "source": [
    "*The algorithm for changing the base for a number is the same for all bases:*\n",
    "1. get the remainder of division of the converted number with the wanted base and add it to the start of a String variable\n",
    "\n",
    "2. after step 1 we can divide our original number with the base we are converting it to (because we already dealt with the Remainder of division)\n",
    "\n",
    "3. repeat step 1+2 as long as the original number has value\n",
    "\n",
    "** in hexedecimal the difference is to know when to add the letters A-F that represents the numbers 10-15 "
   ]
  },
  {
   "cell_type": "code",
   "execution_count": 59,
   "metadata": {},
   "outputs": [
    {
     "name": "stdout",
     "output_type": "stream",
     "text": [
      "Hex: 5FF1 Bin: 101 1111 1111 0001 Oct: 57761\n"
     ]
    }
   ],
   "source": [
    "def binary(x):\n",
    "    binary = \"\"\n",
    "    count = 0 #every 4 digits enter space\n",
    "    while(x != 0):\n",
    "        count = count+1\n",
    "        binary = str(x % 2) + binary\n",
    "        x = int(x / 2)\n",
    "        if(count % 4 == 0):\n",
    "            binary = \" \" + binary\n",
    "    return \"Bin: \" + binary\n",
    "\n",
    "def octe(x):\n",
    "    octe = \"\"\n",
    "    while(x != 0):\n",
    "        octe = str(x % 8) + octe\n",
    "        x = int(x / 8)\n",
    "    return \"Oct: \" + octe\n",
    "\n",
    "def hexe(x):\n",
    "    hexe = \"\"\n",
    "    while(x != 0):\n",
    "        remain = x % 16\n",
    "        if(remain == 10):\n",
    "            hexe = \"A\" + hexe\n",
    "        elif(remain == 11):\n",
    "            hexe = \"B\" + hexe\n",
    "        elif(remain == 12):\n",
    "            hexe = \"C\" + hexe\n",
    "        elif(remain == 13):\n",
    "            hexe = \"D\" + hexe\n",
    "        elif(remain == 14):\n",
    "            hexe = \"E\" + hexe\n",
    "        elif(remain == 15):\n",
    "            hexe = \"F\" + hexe\n",
    "        else:\n",
    "            hexe = str(remain) + hexe\n",
    "        x = int(x / 16)\n",
    "    return \"Hex: \" + hexe\n",
    "\n",
    "x = 24561\n",
    "print(hexe(x) , binary(x) , octe(x))"
   ]
  },
  {
   "cell_type": "code",
   "execution_count": null,
   "metadata": {},
   "outputs": [],
   "source": []
  },
  {
   "cell_type": "code",
   "execution_count": null,
   "metadata": {},
   "outputs": [],
   "source": []
  }
 ],
 "metadata": {
  "kernelspec": {
   "display_name": "Python 3",
   "language": "python",
   "name": "python3"
  },
  "language_info": {
   "codemirror_mode": {
    "name": "ipython",
    "version": 3
   },
   "file_extension": ".py",
   "mimetype": "text/x-python",
   "name": "python",
   "nbconvert_exporter": "python",
   "pygments_lexer": "ipython3",
   "version": "3.8.3"
  }
 },
 "nbformat": 4,
 "nbformat_minor": 4
}
